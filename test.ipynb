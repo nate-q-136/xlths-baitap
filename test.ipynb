{
 "cells": [
  {
   "cell_type": "code",
   "execution_count": 3,
   "metadata": {},
   "outputs": [],
   "source": [
    "import os\n",
    "import random\n",
    "import librosa\n",
    "import librosa.display\n",
    "import matplotlib.pyplot as plt\n",
    "import numpy as np\n",
    "\n"
   ]
  },
  {
   "cell_type": "code",
   "execution_count": 4,
   "metadata": {},
   "outputs": [],
   "source": [
    "\n",
    "# Hàm để tạo đặc trưng phổ băng rộng\n",
    "def plot_wideband_spectrogram(file_path):\n",
    "    y, sr = librosa.load(file_path, sr=None)\n",
    "    D = librosa.amplitude_to_db(np.abs(librosa.stft(y)), ref=np.max)\n",
    "    librosa.display.specshow(D, sr=sr, x_axis='time', y_axis='log')\n",
    "    plt.colorbar(format='%+2.0f dB')\n",
    "    plt.title('Wideband Spectrogram')\n",
    "    plt.show()\n",
    "\n",
    "# Hàm để đo 3 tần số formant thủ công\n",
    "def measure_formants(file_path, n_formants=3):\n",
    "    # Thực hiện đo formants thủ công, bạn có thể sử dụng các công cụ như Praat để đo formants\n",
    "    # và ghi kết quả vào một tập tin dữ liệu hoặc trả về dữ liệu dưới dạng list/tuple.\n",
    "    # Đây chỉ là ví dụ đơn giản và cần được thay thế bằng phương pháp thực tế.\n",
    "    formants_data = [(random.uniform(0, 1000), random.uniform(1000, 2000), random.uniform(2000, 3000))\n",
    "                     for _ in range(n_formants)]\n",
    "    return formants_data\n",
    "\n",
    "# Hàm để so sánh 3 tần số formant giữa các người nói\n",
    "def compare_formants_speakers(speaker1_formants, speaker2_formants):\n",
    "    # Thực hiện so sánh và đưa ra nhận xét về sự khác biệt giữa các người nói\n",
    "    # Ở đây, chúng ta giả sử formants_data là một list/tuple có 3 tần số formant.\n",
    "    # Bạn cần thay thế bằng dữ liệu thực tế của bạn.\n",
    "    for i in range(len(speaker1_formants)):\n",
    "        print(f\"Formants of Speaker 1 (Trial {i + 1}): {speaker1_formants[i]}\")\n",
    "        print(f\"Formants of Speaker 2 (Trial {i + 1}): {speaker2_formants[i]}\")\n",
    "        # Thực hiện so sánh và đưa ra nhận xét tùy thuộc vào yêu cầu cụ thể.\n",
    "\n",
    "def get_wav_files(folder_path):\n",
    "    wav_files = []\n",
    "    for root, dirs, files in os.walk(folder_path):\n",
    "        for file in files:\n",
    "            if file.endswith(\".wav\"):\n",
    "                wav_files.append(os.path.join(root, file))\n",
    "    return wav_files\n",
    "\n",
    "\n",
    "# Thư mục chứa các file âm thanh\n",
    "audio_folder = \"NguyenAmHuanLuyen-16k\"\n",
    "audio_files = []\n",
    "# Lấy danh sách tất cả các file âm thanh\n",
    "audio_folders = [os.path.join(audio_folder, file) for file in os.listdir(audio_folder)]\n",
    "for folder in audio_folders:\n",
    "    audio_files.append(get_wav_files(folder))\n",
    "    \n",
    "\n"
   ]
  },
  {
   "cell_type": "code",
   "execution_count": 5,
   "metadata": {},
   "outputs": [
    {
     "ename": "IndexError",
     "evalue": "tuple index out of range",
     "output_type": "error",
     "traceback": [
      "\u001b[0;31m---------------------------------------------------------------------------\u001b[0m",
      "\u001b[0;31mIndexError\u001b[0m                                Traceback (most recent call last)",
      "\u001b[1;32m/Users/lequangnhat/My Study/4-Signal-Processing/test/test.ipynb Cell 3\u001b[0m line \u001b[0;36m1\n\u001b[1;32m      <a href='vscode-notebook-cell:/Users/lequangnhat/My%20Study/4-Signal-Processing/test/test.ipynb#W2sZmlsZQ%3D%3D?line=7'>8</a>\u001b[0m \u001b[39m# Xuất ảnh phổ băng rộng cho 5 nguyên âm của một người nói\u001b[39;00m\n\u001b[1;32m      <a href='vscode-notebook-cell:/Users/lequangnhat/My%20Study/4-Signal-Processing/test/test.ipynb#W2sZmlsZQ%3D%3D?line=8'>9</a>\u001b[0m \u001b[39mfor\u001b[39;00m vowel \u001b[39min\u001b[39;00m speaker1_vowels:\n\u001b[0;32m---> <a href='vscode-notebook-cell:/Users/lequangnhat/My%20Study/4-Signal-Processing/test/test.ipynb#W2sZmlsZQ%3D%3D?line=9'>10</a>\u001b[0m     plot_wideband_spectrogram(vowel)\n\u001b[1;32m     <a href='vscode-notebook-cell:/Users/lequangnhat/My%20Study/4-Signal-Processing/test/test.ipynb#W2sZmlsZQ%3D%3D?line=10'>11</a>\u001b[0m     y, sr \u001b[39m=\u001b[39m librosa\u001b[39m.\u001b[39mload(vowel, sr\u001b[39m=\u001b[39m\u001b[39mNone\u001b[39;00m)\n\u001b[1;32m     <a href='vscode-notebook-cell:/Users/lequangnhat/My%20Study/4-Signal-Processing/test/test.ipynb#W2sZmlsZQ%3D%3D?line=11'>12</a>\u001b[0m     plt\u001b[39m.\u001b[39mplot(y)\n",
      "\u001b[1;32m/Users/lequangnhat/My Study/4-Signal-Processing/test/test.ipynb Cell 3\u001b[0m line \u001b[0;36m5\n\u001b[1;32m      <a href='vscode-notebook-cell:/Users/lequangnhat/My%20Study/4-Signal-Processing/test/test.ipynb#W2sZmlsZQ%3D%3D?line=2'>3</a>\u001b[0m y, sr \u001b[39m=\u001b[39m librosa\u001b[39m.\u001b[39mload(file_path, sr\u001b[39m=\u001b[39m\u001b[39mNone\u001b[39;00m)\n\u001b[1;32m      <a href='vscode-notebook-cell:/Users/lequangnhat/My%20Study/4-Signal-Processing/test/test.ipynb#W2sZmlsZQ%3D%3D?line=3'>4</a>\u001b[0m \u001b[39m# D = librosa.amplitude_to_db(np.abs(librosa.stft(y)), ref=np.max)\u001b[39;00m\n\u001b[0;32m----> <a href='vscode-notebook-cell:/Users/lequangnhat/My%20Study/4-Signal-Processing/test/test.ipynb#W2sZmlsZQ%3D%3D?line=4'>5</a>\u001b[0m librosa\u001b[39m.\u001b[39;49mdisplay\u001b[39m.\u001b[39;49mspecshow(y, sr\u001b[39m=\u001b[39;49msr, x_axis\u001b[39m=\u001b[39;49m\u001b[39m'\u001b[39;49m\u001b[39mtime\u001b[39;49m\u001b[39m'\u001b[39;49m, y_axis\u001b[39m=\u001b[39;49m\u001b[39m'\u001b[39;49m\u001b[39mlog\u001b[39;49m\u001b[39m'\u001b[39;49m)\n\u001b[1;32m      <a href='vscode-notebook-cell:/Users/lequangnhat/My%20Study/4-Signal-Processing/test/test.ipynb#W2sZmlsZQ%3D%3D?line=5'>6</a>\u001b[0m plt\u001b[39m.\u001b[39mcolorbar(\u001b[39mformat\u001b[39m\u001b[39m=\u001b[39m\u001b[39m'\u001b[39m\u001b[39m%+2.0f\u001b[39;00m\u001b[39m dB\u001b[39m\u001b[39m'\u001b[39m)\n\u001b[1;32m      <a href='vscode-notebook-cell:/Users/lequangnhat/My%20Study/4-Signal-Processing/test/test.ipynb#W2sZmlsZQ%3D%3D?line=6'>7</a>\u001b[0m plt\u001b[39m.\u001b[39mtitle(\u001b[39m'\u001b[39m\u001b[39mWideband Spectrogram\u001b[39m\u001b[39m'\u001b[39m)\n",
      "File \u001b[0;32m~/My Study/4-Signal-Processing/venv/lib/python3.10/site-packages/librosa/display.py:1204\u001b[0m, in \u001b[0;36mspecshow\u001b[0;34m(data, x_coords, y_coords, x_axis, y_axis, sr, hop_length, n_fft, win_length, fmin, fmax, tuning, bins_per_octave, key, Sa, mela, thaat, auto_aspect, htk, unicode, intervals, unison, ax, **kwargs)\u001b[0m\n\u001b[1;32m   1202\u001b[0m \u001b[39m# Get the x and y coordinates\u001b[39;00m\n\u001b[1;32m   1203\u001b[0m y_coords \u001b[39m=\u001b[39m __mesh_coords(y_axis, y_coords, data\u001b[39m.\u001b[39mshape[\u001b[39m0\u001b[39m], \u001b[39m*\u001b[39m\u001b[39m*\u001b[39mall_params)\n\u001b[0;32m-> 1204\u001b[0m x_coords \u001b[39m=\u001b[39m __mesh_coords(x_axis, x_coords, data\u001b[39m.\u001b[39;49mshape[\u001b[39m1\u001b[39;49m], \u001b[39m*\u001b[39m\u001b[39m*\u001b[39mall_params)\n\u001b[1;32m   1206\u001b[0m axes \u001b[39m=\u001b[39m __check_axes(ax)\n\u001b[1;32m   1208\u001b[0m out \u001b[39m=\u001b[39m axes\u001b[39m.\u001b[39mpcolormesh(x_coords, y_coords, data, \u001b[39m*\u001b[39m\u001b[39m*\u001b[39mkwargs)\n",
      "\u001b[0;31mIndexError\u001b[0m: tuple index out of range"
     ]
    }
   ],
   "source": [
    "# Chọn ngẫu nhiên 8 người nói\n",
    "selected_speakers = random.sample(audio_files, 8)\n",
    "\n",
    "# Lấy 05 nguyên âm của một người nói\n",
    "speaker1 = selected_speakers[0]\n",
    "speaker1_vowels = speaker1[:5]  # Lấy 5 nguyên âm\n",
    "\n",
    "# Xuất ảnh phổ băng rộng cho 5 nguyên âm của một người nói\n",
    "for vowel in speaker1_vowels:\n",
    "    plot_wideband_spectrogram(vowel)\n",
    "    y, sr = librosa.load(vowel, sr=None)\n",
    "    plt.plot(y)\n",
    "    plt.show()\n",
    "    break\n",
    "\n",
    "# Đo 3 tần số formant cho 5 nguyên âm của một người nói\n",
    "speaker1_formants = [measure_formants(vowel) for vowel in speaker1_vowels]\n",
    "\n",
    "# So sánh formants của một người nói\n",
    "compare_formants_speakers(speaker1_formants, speaker1_formants)"
   ]
  },
  {
   "cell_type": "code",
   "execution_count": null,
   "metadata": {},
   "outputs": [],
   "source": []
  }
 ],
 "metadata": {
  "kernelspec": {
   "display_name": "venv",
   "language": "python",
   "name": "python3"
  },
  "language_info": {
   "codemirror_mode": {
    "name": "ipython",
    "version": 3
   },
   "file_extension": ".py",
   "mimetype": "text/x-python",
   "name": "python",
   "nbconvert_exporter": "python",
   "pygments_lexer": "ipython3",
   "version": "3.10.11"
  }
 },
 "nbformat": 4,
 "nbformat_minor": 2
}
