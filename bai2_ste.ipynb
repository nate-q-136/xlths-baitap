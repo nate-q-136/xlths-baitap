{
 "cells": [
  {
   "cell_type": "code",
   "execution_count": null,
   "metadata": {},
   "outputs": [],
   "source": [
    "import os\n",
    "import numpy as np\n",
    "import matplotlib.pyplot as plt\n",
    "from scipy.io import wavfile"
   ]
  },
  {
   "cell_type": "code",
   "execution_count": null,
   "metadata": {},
   "outputs": [],
   "source": [
    "def initialize_values():\n",
    "    training_path = \"NguyenAmHuanLuyen-16k\"\n",
    "    test_path = \"NguyenAmKiemThu-16k\"\n",
    "    training_folders = [folder for folder in os.listdir(training_path) if os.path.isdir(os.path.join(training_path, folder))]\n",
    "    test_folders = [folder for folder in os.listdir(test_path) if os.path.isdir(os.path.join(test_path, folder))]\n",
    "    vowel_files = [\"a.wav\", \"e.wav\", \"i.wav\", \"o.wav\", \"u.wav\"]\n",
    "    frame_duration = 0.03\n",
    "    frame_shift = 0.015\n",
    "    N_FFT_array = [512, 1024, 2048]\n",
    "\n",
    "    return training_path, training_folders, test_path, test_folders, vowel_files, frame_duration, frame_shift, N_FFT_array"
   ]
  },
  {
   "cell_type": "code",
   "execution_count": null,
   "metadata": {},
   "outputs": [],
   "source": [
    "import warnings\n",
    "\n",
    "def process_speech_signal(path, folder, file, frame_duration, frame_shift):\n",
    "    filepath = f\"{path}/{folder}/{file}\"\n",
    "    warnings.filterwarnings('ignore', category=wavfile.WavFileWarning)\n",
    "    Fs, data = wavfile.read(filepath)\n",
    "    T = 1 / Fs                            # Thoi gian lay mau\n",
    "    n = len(data)                         # So mau tin hieu\n",
    "    t = n * T                             # Thoi gian tin hieu\n",
    "    signal = data\n",
    "    data = data / abs(max(data))          # Chuan hoa bien do ve [-1, 1]\n",
    "    # Do dai khung (30ms)\n",
    "    frame_len = round(frame_duration * Fs)\n",
    "    # Do dich khung (15ms)\n",
    "    frame_shift_len = round(frame_shift * Fs)\n",
    "    # Tong so khung\n",
    "    n_f = int(np.floor((n - frame_len) / frame_shift_len) + 1)\n",
    "    # Chia tin hieu thanh cac khung\n",
    "    list_frames = [data[i * frame_shift_len:i * frame_shift_len + frame_len] for i in range(n_f)]\n",
    "    frames = np.array(list_frames)\n",
    "    # Tinh nang luong cua tung khung\n",
    "    ste = np.sum(np.square(frames), axis=1)\n",
    "    # Chuan hoa nang luong\n",
    "    ste = ste / max(ste)\n",
    "    # Tim cac khung co nang luong lon hon nguong 0.03\n",
    "    id = np.where(ste >= 0.03)[0]\n",
    "    # Tim khung bat dau va ket thuc cua doan tieng noi\n",
    "    len_id = len(id)\n",
    "    distance = int(np.ceil((id[-1] - id[0]) / 3))\n",
    "    frame_start = id[0] + distance\n",
    "    frame_end = id[0] + 2 * distance\n",
    "\n",
    "    # Plotting the signal and the STE\n",
    "    plt.figure()\n",
    "    plt.plot(np.arange(0, len(signal) * T, T), signal) # Original signal\n",
    "    plt.title(\"Signal and (STE) of the Signal \" + f\"{folder}/{file}\")\n",
    "    # Vertical lines for speech marks\n",
    "    plt.axvline(x=(id[0]) * frame_shift_len * T, color='r', linestyle='--', label=\"Start of Speech\")\n",
    "    plt.axvline(x=(id[-1]) * frame_shift_len * T, color='r', linestyle='--', label=\"End of Speech\")\n",
    "    plt.axvline(x=(frame_start) * frame_shift_len * T, color='b', linestyle='--', label=\"Start of Stable Speech\")\n",
    "    plt.axvline(x=(frame_end) * frame_shift_len * T, color='b', linestyle='--', label=\"End of Stable Speech\")\n",
    "    plt.xlabel(\"Time (s)\")\n",
    "    plt.ylabel(\"Amplitude\")\n",
    "    plt.legend()\n",
    "    plt.tight_layout()\n",
    "    plt.show() \n",
    "    return frames, frame_start, frame_end\n",
    "# Example usage\n",
    "frames, frame_start, frame_end = process_speech_signal(\"NguyenAmHuanLuyen-16k\", \"23MTL\", \"a.wav\", 0.02, 0.01)\n",
    "frames, frame_start, frame_end = process_speech_signal(\"NguyenAmHuanLuyen-16k\", \"23MTL\", \"o.wav\", 0.02, 0.01)\n",
    "frames, frame_start, frame_end = process_speech_signal(\"NguyenAmHuanLuyen-16k\", \"23MTL\", \"u.wav\", 0.02, 0.01)\n",
    "frames, frame_start, frame_end = process_speech_signal(\"NguyenAmHuanLuyen-16k\", \"23MTL\", \"e.wav\", 0.02, 0.01)\n",
    "frames, frame_start, frame_end = process_speech_signal(\"NguyenAmHuanLuyen-16k\", \"23MTL\", \"i.wav\", 0.02, 0.01)\n"
   ]
  }
 ],
 "metadata": {
  "kernelspec": {
   "display_name": "Python 3",
   "language": "python",
   "name": "python3"
  },
  "language_info": {
   "codemirror_mode": {
    "name": "ipython",
    "version": 3
   },
   "file_extension": ".py",
   "mimetype": "text/x-python",
   "name": "python",
   "nbconvert_exporter": "python",
   "pygments_lexer": "ipython3",
   "version": "3.11.5"
  }
 },
 "nbformat": 4,
 "nbformat_minor": 2
}
