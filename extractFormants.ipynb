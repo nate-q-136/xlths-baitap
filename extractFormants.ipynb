{
 "cells": [
  {
   "cell_type": "code",
   "execution_count": 14,
   "metadata": {},
   "outputs": [],
   "source": [
    "import numpy as np\n",
    "import matplotlib.pyplot as plt\n",
    "from scipy.signal import lfilter, freqz\n",
    "from scipy.io import wavfile\n",
    "import librosa"
   ]
  },
  {
   "cell_type": "code",
   "execution_count": 23,
   "metadata": {},
   "outputs": [
    {
     "name": "stdout",
     "output_type": "stream",
     "text": [
      "[26, 8, 6]\n"
     ]
    }
   ],
   "source": [
    "import numpy as np\n",
    "import matplotlib.pyplot as plt\n",
    "import librosa\n",
    "import librosa.display\n",
    "\n",
    "def find_formants(vowel_signal, sample_rate):\n",
    "    # Get the mel-frequency cepstral coefficients (MFCCs)\n",
    "    mfcc = librosa.feature.mfcc(y=vowel_signal, sr=sample_rate)\n",
    "    \n",
    "    # Transpose the MFCCs to have time on the x-axis\n",
    "    mfcc = mfcc.T\n",
    "    \n",
    "    # Compute the first three formants using the MFCCs\n",
    "    formants = []\n",
    "    for i in range(3):\n",
    "        formant = np.argmax(mfcc[:, i+1])  # Skip the 0th coefficient as it represents the overall loudness\n",
    "        formants.append(formant)\n",
    "    \n",
    "    return formants\n",
    "\n",
    "def plot_signal_with_formants(vowel_signal, sample_rate, formants):\n",
    "    plt.figure(figsize=(10, 4))\n",
    "    \n",
    "    # Plot the waveform\n",
    "    plt.subplot(1, 2, 1)\n",
    "    librosa.display.waveshow(y=vowel_signal, sr=sample_rate)\n",
    "    plt.title('Vowel Signal')\n",
    "    \n",
    "    # Plot the spectrogram\n",
    "    plt.subplot(1, 2, 2)\n",
    "    librosa.display.specshow(librosa.amplitude_to_db(librosa.stft(vowel_signal)), sr=sample_rate, x_axis='time', y_axis='log')\n",
    "    plt.title('Spectrogram')\n",
    "    plt.colorbar(format='%+2.0f dB')\n",
    "    \n",
    "    # Add vertical lines for the formants\n",
    "    for formant in formants:\n",
    "        plt.axvline(x=formant/sample_rate, color='red')\n",
    "    \n",
    "    plt.tight_layout()\n",
    "    plt.show()\n",
    "\n",
    "# Example usage\n",
    "vowel_signal, sample_rate = librosa.load('/Users/lequangnhat/My Study/4-Signal-Processing/test/NguyenAmKiemThu-16k/01MDA/a.wav', sr=None)\n",
    "formants = find_formants(vowel_signal, sample_rate)\n",
    "print(formants)\n",
    "# plot_signal_with_formants(vowel_signal, sample_rate, formants)"
   ]
  },
  {
   "cell_type": "code",
   "execution_count": 27,
   "metadata": {},
   "outputs": [
    {
     "name": "stdout",
     "output_type": "stream",
     "text": [
      "F1: 842.64 Hz, F2: 1824.97 Hz, F3: 2684.95 Hz\n"
     ]
    }
   ],
   "source": [
    "import parselmouth\n",
    "\n",
    "def estimate_formants(file_path, max_formant=5500):\n",
    "\n",
    "    \"\"\"\n",
    "\n",
    "    Estimate the first three formants (F1, F2, and F3) of a given vowel sound.\n",
    "\n",
    "\n",
    "\n",
    "    Parameters:\n",
    "\n",
    "        file_path (str): The path to the WAV file containing the vowel sound.\n",
    "\n",
    "        max_formant (int): The maximum formant frequency to consider (recommended default is 5500 Hz for adult male voices).\n",
    "\n",
    "\n",
    "\n",
    "    Returns:\n",
    "\n",
    "        tuple: A tuple containing the estimated formant frequencies (F1, F2, F3).\n",
    "\n",
    "    \"\"\"\n",
    "\n",
    "    # Load the sound file\n",
    "\n",
    "    sound = parselmouth.Sound(file_path)\n",
    "\n",
    "    # Analyze formants; assuming a point in time where the vowel is steady, here considering the midpoint\n",
    "\n",
    "    formant = sound.to_formant_burg(maximum_formant=max_formant)\n",
    "\n",
    "    midpoint = sound.duration / 2\n",
    "\n",
    "    num_formants = 3  # We want to find the first three formants\n",
    "\n",
    "    formant_freqs = []\n",
    "\n",
    "    for i in range(1, num_formants + 1):\n",
    "\n",
    "        formant_freq = formant.get_value_at_time(i, midpoint)\n",
    "\n",
    "        formant_freqs.append(formant_freq)\n",
    "\n",
    "\n",
    "\n",
    "    return tuple(formant_freqs)\n",
    "\n",
    "# Example usage:\n",
    "\n",
    "vowel_file = '/Users/lequangnhat/My Study/4-Signal-Processing/test/NguyenAmHuanLuyen-16k/34MQP/e.wav'  # Replace with the path to your vowel sound file\n",
    "\n",
    "f1, f2, f3 = estimate_formants(vowel_file)\n",
    "\n",
    "print(f\"F1: {f1:.2f} Hz, F2: {f2:.2f} Hz, F3: {f3:.2f} Hz\")"
   ]
  },
  {
   "cell_type": "code",
   "execution_count": null,
   "metadata": {},
   "outputs": [],
   "source": []
  }
 ],
 "metadata": {
  "kernelspec": {
   "display_name": "venv",
   "language": "python",
   "name": "python3"
  },
  "language_info": {
   "codemirror_mode": {
    "name": "ipython",
    "version": 3
   },
   "file_extension": ".py",
   "mimetype": "text/x-python",
   "name": "python",
   "nbconvert_exporter": "python",
   "pygments_lexer": "ipython3",
   "version": "3.10.11"
  }
 },
 "nbformat": 4,
 "nbformat_minor": 2
}
